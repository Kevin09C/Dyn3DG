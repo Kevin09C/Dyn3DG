{
 "cells": [
  {
   "cell_type": "code",
   "execution_count": 147,
   "metadata": {},
   "outputs": [
    {
     "name": "stderr",
     "output_type": "stream",
     "text": [
      "  1%|          | 1/150 [00:03<08:39,  3.48s/it]\n"
     ]
    },
    {
     "ename": "KeyboardInterrupt",
     "evalue": "",
     "output_type": "error",
     "traceback": [
      "\u001b[0;31m---------------------------------------------------------------------------\u001b[0m",
      "\u001b[0;31mKeyboardInterrupt\u001b[0m                         Traceback (most recent call last)",
      "\u001b[0;32m/tmp/ipykernel_295769/1189141953.py\u001b[0m in \u001b[0;36m<module>\u001b[0;34m\u001b[0m\n\u001b[1;32m    256\u001b[0m                     \u001b[0mnormalized_flow\u001b[0m\u001b[0;34m.\u001b[0m\u001b[0mappend\u001b[0m\u001b[0;34m(\u001b[0m\u001b[0mflow\u001b[0m\u001b[0;34m)\u001b[0m\u001b[0;34m\u001b[0m\u001b[0;34m\u001b[0m\u001b[0m\n\u001b[1;32m    257\u001b[0m                     \u001b[0mx2\u001b[0m \u001b[0;34m=\u001b[0m \u001b[0mx1\u001b[0m \u001b[0;34m+\u001b[0m \u001b[0mflow\u001b[0m\u001b[0;34m.\u001b[0m\u001b[0mview\u001b[0m\u001b[0;34m(\u001b[0m\u001b[0;34m-\u001b[0m\u001b[0;36m1\u001b[0m\u001b[0;34m,\u001b[0m \u001b[0;36m2\u001b[0m\u001b[0;34m)\u001b[0m  \u001b[0;31m# (H*W, 2)\u001b[0m\u001b[0;34m\u001b[0m\u001b[0;34m\u001b[0m\u001b[0m\n\u001b[0;32m--> 258\u001b[0;31m                     \u001b[0mF\u001b[0m\u001b[0;34m,\u001b[0m \u001b[0mmask\u001b[0m \u001b[0;34m=\u001b[0m \u001b[0mcv2\u001b[0m\u001b[0;34m.\u001b[0m\u001b[0mfindFundamentalMat\u001b[0m\u001b[0;34m(\u001b[0m\u001b[0mx1\u001b[0m\u001b[0;34m.\u001b[0m\u001b[0mnumpy\u001b[0m\u001b[0;34m(\u001b[0m\u001b[0;34m)\u001b[0m\u001b[0;34m,\u001b[0m \u001b[0mx2\u001b[0m\u001b[0;34m.\u001b[0m\u001b[0mnumpy\u001b[0m\u001b[0;34m(\u001b[0m\u001b[0;34m)\u001b[0m\u001b[0;34m,\u001b[0m \u001b[0mcv2\u001b[0m\u001b[0;34m.\u001b[0m\u001b[0mFM_LMEDS\u001b[0m\u001b[0;34m)\u001b[0m\u001b[0;34m\u001b[0m\u001b[0;34m\u001b[0m\u001b[0m\n\u001b[0m\u001b[1;32m    259\u001b[0m                     \u001b[0mF\u001b[0m \u001b[0;34m=\u001b[0m \u001b[0mtorch\u001b[0m\u001b[0;34m.\u001b[0m\u001b[0mfrom_numpy\u001b[0m\u001b[0;34m(\u001b[0m\u001b[0mF\u001b[0m\u001b[0;34m.\u001b[0m\u001b[0mastype\u001b[0m\u001b[0;34m(\u001b[0m\u001b[0mnp\u001b[0m\u001b[0;34m.\u001b[0m\u001b[0mfloat32\u001b[0m\u001b[0;34m)\u001b[0m\u001b[0;34m)\u001b[0m  \u001b[0;31m# (3, 3)\u001b[0m\u001b[0;34m\u001b[0m\u001b[0;34m\u001b[0m\u001b[0m\n\u001b[1;32m    260\u001b[0m                     \u001b[0merr\u001b[0m \u001b[0;34m=\u001b[0m \u001b[0mcompute_sampson_error\u001b[0m\u001b[0;34m(\u001b[0m\u001b[0mx1\u001b[0m\u001b[0;34m,\u001b[0m \u001b[0mx2\u001b[0m\u001b[0;34m,\u001b[0m \u001b[0mF\u001b[0m\u001b[0;34m)\u001b[0m\u001b[0;34m.\u001b[0m\u001b[0mreshape\u001b[0m\u001b[0;34m(\u001b[0m\u001b[0mH\u001b[0m\u001b[0;34m,\u001b[0m \u001b[0mW\u001b[0m\u001b[0;34m)\u001b[0m\u001b[0;34m\u001b[0m\u001b[0;34m\u001b[0m\u001b[0m\n",
      "\u001b[0;31mKeyboardInterrupt\u001b[0m: "
     ]
    }
   ],
   "source": [
    "import argparse\n",
    "import glob\n",
    "import os\n",
    "from tqdm import tqdm\n",
    "import cv2\n",
    "import imageio\n",
    "import numpy as np\n",
    "import skimage.morphology\n",
    "import torch\n",
    "from PIL import Image\n",
    "import torchvision\n",
    "import matplotlib.pyplot as plt\n",
    "if torch.cuda.is_available():\n",
    "    DEVICE = \"cuda\"\n",
    "elif torch.backends.mps.is_available():\n",
    "    DEVICE = \"mps\"\n",
    "else:\n",
    "    DEVICE = \"cpu\"\n",
    "\n",
    "def create_dir(dir):\n",
    "    if not os.path.exists(dir):\n",
    "        os.makedirs(dir)\n",
    "\n",
    "\n",
    "def load_image(imfile):\n",
    "    img = np.array(Image.open(imfile)).astype(np.uint8)[..., :3]\n",
    "    img = torch.from_numpy(img).permute(2, 0, 1).float()\n",
    "    return img[None].to(DEVICE)\n",
    "\n",
    "\n",
    "def get_uv_grid(H, W, homo=False, align_corners=False, device=None):\n",
    "    \"\"\"\n",
    "    Get uv grid renormalized from -1 to 1\n",
    "    :returns (H, W, 2) tensor\n",
    "    \"\"\"\n",
    "    if device is None:\n",
    "        device = torch.device(\"cpu\")\n",
    "    yy, xx = torch.meshgrid(\n",
    "        torch.arange(H, dtype=torch.float32, device=device),\n",
    "        torch.arange(W, dtype=torch.float32, device=device),\n",
    "        indexing=\"ij\",\n",
    "    )\n",
    "    if align_corners:\n",
    "        xx = 2 * xx / (W - 1) - 1\n",
    "        yy = 2 * yy / (H - 1) - 1\n",
    "    else:\n",
    "        xx = 2 * (xx + 0.5) / W - 1\n",
    "        yy = 2 * (yy + 0.5) / H - 1\n",
    "    if homo:\n",
    "        return torch.stack([xx, yy, torch.ones_like(xx)], dim=-1)\n",
    "    return torch.stack([xx, yy], dim=-1)\n",
    "\n",
    "\n",
    "def compute_sampson_error(x1, x2, F):\n",
    "    \"\"\"\n",
    "    :param x1 (*, N, 2)\n",
    "    :param x2 (*, N, 2)\n",
    "    :param F (*, 3, 3)\n",
    "    \"\"\"\n",
    "    h1 = torch.cat([x1, torch.ones_like(x1[..., :1])], dim=-1)\n",
    "    h2 = torch.cat([x2, torch.ones_like(x2[..., :1])], dim=-1)\n",
    "    d1 = torch.matmul(h1, F.transpose(-1, -2))  # (B, N, 3)\n",
    "    d2 = torch.matmul(h2, F)  # (B, N, 3)\n",
    "    z = (h2 * d1).sum(dim=-1)  # (B, N)\n",
    "    err = z**2 / (\n",
    "        d1[..., 0] ** 2 + d1[..., 1] ** 2 + d2[..., 0] ** 2 + d2[..., 1] ** 2\n",
    "    )\n",
    "    return err\n",
    "\n",
    "\n",
    "def run_maskrcnn(model, img_path):\n",
    "    threshold = 0.5\n",
    "    o_image = Image.open(img_path).convert(\"RGB\")\n",
    "    width, height = o_image.size\n",
    "    if width > height:\n",
    "        intHeight = 576\n",
    "        intWidth = 1024\n",
    "    else:\n",
    "        intHeight = 1024\n",
    "        intWidth = 576\n",
    "\n",
    "    image = o_image.resize((intWidth, intHeight), Image.Resampling.LANCZOS)\n",
    "\n",
    "    image_tensor = torchvision.transforms.functional.to_tensor(image).to(DEVICE)\n",
    "\n",
    "    tenHumans = torch.FloatTensor(intHeight, intWidth).fill_(1.0).to(DEVICE)\n",
    "\n",
    "    objPredictions = model([image_tensor])[0]\n",
    "\n",
    "    for intMask in range(objPredictions[\"masks\"].size(0)):\n",
    "        if objPredictions[\"scores\"][intMask].item() > threshold:\n",
    "            # person, vehicle, accessory, animal, sports\n",
    "            if objPredictions[\"labels\"][intMask].item() == 1:  # person\n",
    "                tenHumans[objPredictions[\"masks\"][intMask, 0, :, :] > threshold] = 0.0\n",
    "            if (\n",
    "                objPredictions[\"labels\"][intMask].item() >= 2\n",
    "                and objPredictions[\"labels\"][intMask].item() <= 9\n",
    "            ):  # vehicle\n",
    "                tenHumans[objPredictions[\"masks\"][intMask, 0, :, :] > threshold] = 0.0\n",
    "            if (\n",
    "                objPredictions[\"labels\"][intMask].item() >= 26\n",
    "                and objPredictions[\"labels\"][intMask].item() <= 33\n",
    "            ):  # accessory\n",
    "                tenHumans[objPredictions[\"masks\"][intMask, 0, :, :] > threshold] = 0.0\n",
    "            if (\n",
    "                objPredictions[\"labels\"][intMask].item() >= 16\n",
    "                and objPredictions[\"labels\"][intMask].item() <= 25\n",
    "            ):  # animal\n",
    "                tenHumans[objPredictions[\"masks\"][intMask, 0, :, :] > threshold] = 0.0\n",
    "            if (\n",
    "                objPredictions[\"labels\"][intMask].item() >= 34\n",
    "                and objPredictions[\"labels\"][intMask].item() <= 43\n",
    "            ):  # sports\n",
    "                tenHumans[objPredictions[\"masks\"][intMask, 0, :, :] > threshold] = 0.0\n",
    "            if objPredictions[\"labels\"][intMask].item() == 88:  # teddy bear\n",
    "                tenHumans[objPredictions[\"masks\"][intMask, 0, :, :] > threshold] = 0.0\n",
    "\n",
    "    npyMask = skimage.morphology.erosion(\n",
    "        tenHumans.cpu().numpy(), skimage.morphology.disk(1)\n",
    "    )\n",
    "    npyMask = ((npyMask < 1e-3) * 255.0).clip(0.0, 255.0).astype(np.uint8)\n",
    "    return npyMask\n",
    "\n",
    "\n",
    "def warp_flow(img, flow):\n",
    "    h, w = flow.shape[:2]\n",
    "    flow_new = flow.copy()\n",
    "    flow_new[:, :, 0] += np.arange(w)\n",
    "    flow_new[:, :, 1] += np.arange(h)[:, np.newaxis]\n",
    "\n",
    "    res = cv2.remap(\n",
    "        img, flow_new, None, cv2.INTER_LINEAR, borderMode=cv2.BORDER_CONSTANT\n",
    "    )\n",
    "    return res\n",
    "\n",
    "\n",
    "def get_stats(X, norm=2):\n",
    "    \"\"\"\n",
    "    :param X (N, C, H, W)\n",
    "    :returns mean (1, C, 1, 1), scale (1)\n",
    "    \"\"\"\n",
    "    mean = X.mean(dim=(0, 2, 3), keepdim=True)  # (1, C, 1, 1)\n",
    "    if norm == 1:\n",
    "        mag = torch.abs(X - mean).sum(dim=1)  # (N, H, W)\n",
    "    else:\n",
    "        mag = np.sqrt(2) * torch.sqrt(torch.square(X - mean).sum(dim=1))  # (N, H, W)\n",
    "    scale = mag.mean() + 1e-6\n",
    "    return mean, scale\n",
    "\n",
    "\n",
    "if __name__ == \"__main__\":\n",
    "    parser = argparse.ArgumentParser()\n",
    "    parser.add_argument(\"--dataset_path\", type=str, help=\"Dataset path\", default='data')\n",
    "    args = parser.parse_args([])\n",
    "    data_dir = args.dataset_path\n",
    "    netMaskrcnn = (\n",
    "        torchvision.models.detection.maskrcnn_resnet50_fpn(weights=\"DEFAULT\")\n",
    "        .to(DEVICE)\n",
    "        .eval()\n",
    "    )\n",
    "\n",
    "\n",
    "    scores = {} # scores is an empty dict already\n",
    "\n",
    "    \n",
    "\n",
    "    for seq in ['basketball']:\n",
    "      for k in range(5, 6):\n",
    "        #images = sorted(glob.glob(os.path.join(data_dir, \"images\", \"*.jpg\")))\n",
    "        images = sorted(glob.glob(os.path.join(data_dir, f\"{seq}/ims/{k}\", \"*.jpg\")))\n",
    "\n",
    "        img = load_image(images[0])\n",
    "        H = img.shape[2]\n",
    "        W = img.shape[3]\n",
    "\n",
    "        # RUN SEMANTIC SEGMENTATION\n",
    "        #img_path_list = sorted(glob.glob(os.path.join(data_dir, \"images\", \"*.jpg\")))\n",
    "        img_path_list = sorted(glob.glob(os.path.join(data_dir, f\"{seq}/ims/{k}\", \"*.jpg\")))\n",
    "\n",
    "        mask_rcnn_masks = []\n",
    "        for i in range(0, len(img_path_list)):\n",
    "            img_path = img_path_list[i]\n",
    "            img_name = img_path.split(\"/\")[-1]\n",
    "            semantic_mask = run_maskrcnn(netMaskrcnn, img_path)\n",
    "            semantic_mask = cv2.resize(\n",
    "                semantic_mask, (W, H), interpolation=cv2.INTER_NEAREST\n",
    "            )\n",
    "            mask_rcnn_masks.append(semantic_mask)\n",
    "\n",
    "        uv = get_uv_grid(H, W, align_corners=False)\n",
    "        x1 = uv.reshape(-1, 2)\n",
    "        motion_mask_frames = []\n",
    "        motion_mask_frames2 = []\n",
    "        flow_for_bilateral = []\n",
    "        for idx, _ in tqdm(enumerate(images), total=len(images)):\n",
    "            motion_masks = []\n",
    "            weights = []\n",
    "            err_list = []\n",
    "            normalized_flow = []\n",
    "            this_flow = 0\n",
    "            counter = 0\n",
    "            for step in [1]:\n",
    "                if idx - step >= 0:\n",
    "                    # backward flow and mask\n",
    "                    \n",
    "                    bwd_flow_path = os.path.join(\n",
    "                        data_dir, f\"{seq}/flow/{k}\", str(idx).zfill(5) + \"_bwd.npz\"\n",
    "                    )\n",
    "                    bwd_data = np.load(bwd_flow_path)\n",
    "                    bwd_flow, bwd_mask = bwd_data[\"flow\"], bwd_data[\"mask\"]\n",
    "                    this_flow = np.copy(this_flow - bwd_flow)\n",
    "                    counter += 1\n",
    "                    bwd_flow = torch.from_numpy(bwd_flow)\n",
    "                    bwd_mask = np.float32(bwd_mask)\n",
    "                    bwd_mask = torch.from_numpy(bwd_mask)\n",
    "                    flow = torch.from_numpy(\n",
    "                        np.stack(\n",
    "                            [\n",
    "                                2.0 * bwd_flow[..., 0] / (W - 1),\n",
    "                                2.0 * bwd_flow[..., 1] / (H - 1),\n",
    "                            ],\n",
    "                            axis=-1,\n",
    "                        )\n",
    "                    )\n",
    "                    normalized_flow.append(flow)\n",
    "                    x2 = x1 + flow.view(-1, 2)  # (H*W, 2)\n",
    "                    F, mask = cv2.findFundamentalMat(x1.numpy(), x2.numpy(), cv2.FM_LMEDS)\n",
    "                    F = torch.from_numpy(F.astype(np.float32))  # (3, 3)\n",
    "                    err = compute_sampson_error(x1, x2, F).reshape(H, W)\n",
    "                    fac = (H + W) / 2\n",
    "                    err = err * fac**2\n",
    "                    err_list.append(err)\n",
    "                    weights.append(bwd_mask.mean())\n",
    "\n",
    "                if idx + step < len(images):\n",
    "                    # forward flow and mask\n",
    "                    fwd_flow_path = os.path.join(\n",
    "                        data_dir, f\"{seq}/flow/{k}\", str(idx).zfill(5) + \"_fwd.npz\"\n",
    "                    )\n",
    "                    fwd_data = np.load(fwd_flow_path, allow_pickle=True)\n",
    "                    fwd_flow, fwd_mask = fwd_data[\"flow\"], fwd_data[\"mask\"]\n",
    "                    this_flow = np.copy(this_flow + fwd_flow)\n",
    "                    counter += 1\n",
    "                    fwd_flow = torch.from_numpy(fwd_flow)\n",
    "                    fwd_mask = np.float32(fwd_mask)\n",
    "                    fwd_mask = torch.from_numpy(fwd_mask)\n",
    "                    flow = torch.from_numpy(\n",
    "                        np.stack(\n",
    "                            [\n",
    "                                2.0 * fwd_flow[..., 0] / (W - 1),\n",
    "                                2.0 * fwd_flow[..., 1] / (H - 1),\n",
    "                            ],\n",
    "                            axis=-1,\n",
    "                        )\n",
    "                    )\n",
    "                    normalized_flow.append(flow)\n",
    "                    x2 = x1 + flow.view(-1, 2)  # (H*W, 2)\n",
    "                    F, mask = cv2.findFundamentalMat(x1.numpy(), x2.numpy(), cv2.FM_LMEDS)\n",
    "                    F = torch.from_numpy(F.astype(np.float32))  # (3, 3)\n",
    "                    err = compute_sampson_error(x1, x2, F).reshape(H, W)\n",
    "                    fac = (H + W) / 2\n",
    "                    err = err * fac**2\n",
    "                    err_list.append(err)\n",
    "                    weights.append(fwd_mask.mean())\n",
    "\n",
    "            err = torch.amax(torch.stack(err_list, 0), 0)\n",
    "            flow_for_bilateral.append(this_flow / counter)\n",
    "\n",
    "            thresh = torch.quantile(err, 0.8)\n",
    "            err = torch.where(err <= thresh, torch.zeros_like(err), err)\n",
    "\n",
    "            mask = torch.from_numpy(skimage.morphology.binary_opening(\n",
    "                    err.numpy() > (H * W / (300000.0)), skimage.morphology.disk(1)\n",
    "                )\n",
    "            )  # 64.0 for nvidia, 49.0 for DAVIS_480p, 256.0 for DAVIS_1080p\n",
    "            # combine\n",
    "            mask_rcnn_mask = torch.from_numpy(mask_rcnn_masks[idx])\n",
    "            mask[mask_rcnn_mask > 1] = 1.0\n",
    "\n",
    "            mask = torch.from_numpy(\n",
    "                skimage.morphology.dilation(mask.cpu(), skimage.morphology.disk(2))\n",
    "            ).float()\n",
    "            print(mask.shape)\n",
    "            \"\"\"if not os.path.exists(os.path.join(data_dir, f\"{seq}/epipolar_error_png/{k}\")):\n",
    "                os.makedirs(os.path.join(data_dir, f\"{seq}/epipolar_error_png/{k}\"))\n",
    "            Image.fromarray(((mask).numpy() * 255.0).astype(np.uint8)).save(\n",
    "                os.path.join(data_dir, f\"{seq}/epipolar_error_png/{k}\", str(idx).zfill(5) + \".png\")\n",
    "            )\"\"\"\n",
    "\n"
   ]
  },
  {
   "cell_type": "code",
   "execution_count": 116,
   "metadata": {},
   "outputs": [
    {
     "data": {
      "text/plain": [
       "array([[False, False, False, ..., False, False, False],\n",
       "       [False, False, False, ..., False, False, False],\n",
       "       [False, False, False, ..., False, False, False],\n",
       "       ...,\n",
       "       [False, False, False, ..., False, False, False],\n",
       "       [False, False, False, ..., False, False, False],\n",
       "       [False, False, False, ..., False, False, False]])"
      ]
     },
     "execution_count": 116,
     "metadata": {},
     "output_type": "execute_result"
    }
   ],
   "source": [
    "skimage.morphology.binary_opening(\n",
    "                    err.numpy() > (H * W / (300000.0)), skimage.morphology.disk(1)\n",
    ")"
   ]
  },
  {
   "cell_type": "code",
   "execution_count": 117,
   "metadata": {},
   "outputs": [
    {
     "data": {
      "text/plain": [
       "(torch.Size([360, 640]), (360, 640))"
      ]
     },
     "execution_count": 117,
     "metadata": {},
     "output_type": "execute_result"
    }
   ],
   "source": [
    "tmp.shape, mask_rcnn_masks[0].shape"
   ]
  },
  {
   "cell_type": "code",
   "execution_count": 118,
   "metadata": {},
   "outputs": [
    {
     "ename": "TypeError",
     "evalue": "where() missing 1 required positional arguments: \"other\"",
     "output_type": "error",
     "traceback": [
      "\u001b[0;31m---------------------------------------------------------------------------\u001b[0m",
      "\u001b[0;31mTypeError\u001b[0m                                 Traceback (most recent call last)",
      "\u001b[0;32m/tmp/ipykernel_295769/2805700449.py\u001b[0m in \u001b[0;36m<module>\u001b[0;34m\u001b[0m\n\u001b[0;32m----> 1\u001b[0;31m \u001b[0mplt\u001b[0m\u001b[0;34m.\u001b[0m\u001b[0mimshow\u001b[0m\u001b[0;34m(\u001b[0m\u001b[0mtmp\u001b[0m\u001b[0;34m.\u001b[0m\u001b[0mwhere\u001b[0m\u001b[0;34m(\u001b[0m\u001b[0mcondition\u001b[0m\u001b[0;34m=\u001b[0m\u001b[0mtorch\u001b[0m\u001b[0;34m.\u001b[0m\u001b[0mtensor\u001b[0m\u001b[0;34m(\u001b[0m\u001b[0mmask_rcnn_masks\u001b[0m\u001b[0;34m[\u001b[0m\u001b[0;36m0\u001b[0m\u001b[0;34m]\u001b[0m\u001b[0;34m)\u001b[0m \u001b[0;34m>\u001b[0m \u001b[0;36m1\u001b[0m\u001b[0;34m)\u001b[0m\u001b[0;34m)\u001b[0m\u001b[0;34m\u001b[0m\u001b[0;34m\u001b[0m\u001b[0m\n\u001b[0m",
      "\u001b[0;31mTypeError\u001b[0m: where() missing 1 required positional arguments: \"other\""
     ]
    }
   ],
   "source": []
  },
  {
   "cell_type": "code",
   "execution_count": 124,
   "metadata": {},
   "outputs": [
    {
     "data": {
      "text/plain": [
       "255"
      ]
     },
     "execution_count": 124,
     "metadata": {},
     "output_type": "execute_result"
    }
   ],
   "source": [
    "mask_rcnn_masks[0].max()"
   ]
  },
  {
   "cell_type": "code",
   "execution_count": 131,
   "metadata": {},
   "outputs": [
    {
     "data": {
      "text/plain": [
       "<matplotlib.image.AxesImage at 0x7fa22403ef50>"
      ]
     },
     "execution_count": 131,
     "metadata": {},
     "output_type": "execute_result"
    },
    {
     "data": {
      "image/png": "[encoded data removed]",
      "text/plain": [
       "<Figure size 640x480 with 1 Axes>"
      ]
     },
     "metadata": {},
     "output_type": "display_data"
    }
   ],
   "source": [
    "tmp[mask_rcnn_mask > 1] = 1.0\n",
    "plt.imshow(tmp)"
   ]
  },
  {
   "cell_type": "code",
   "execution_count": 148,
   "metadata": {},
   "outputs": [
    {
     "data": {
      "text/plain": [
       "<matplotlib.image.AxesImage at 0x7fa22007e250>"
      ]
     },
     "execution_count": 148,
     "metadata": {},
     "output_type": "execute_result"
    },
    {
     "data": {
      "image/png": "[encoded data removed]",
      "text/plain": [
       "<Figure size 640x480 with 1 Axes>"
      ]
     },
     "metadata": {},
     "output_type": "display_data"
    }
   ],
   "source": [
    "tmp = torch.from_numpy(skimage.morphology.binary_opening(\n",
    "                    err.numpy() > (H * W / (300000.0)), skimage.morphology.disk(1)\n",
    "                )\n",
    "            )\n",
    "tmp[mask_rcnn_mask > 1] = 1.0\n",
    "\n",
    "plt.imshow(tmp)"
   ]
  },
  {
   "cell_type": "code",
   "execution_count": 149,
   "metadata": {},
   "outputs": [
    {
     "data": {
      "text/plain": [
       "<matplotlib.image.AxesImage at 0x7fa2214d6190>"
      ]
     },
     "execution_count": 149,
     "metadata": {},
     "output_type": "execute_result"
    },
    {
     "data": {
      "image/png": "[encoded data removed]",
      "text/plain": [
       "<Figure size 640x480 with 1 Axes>"
      ]
     },
     "metadata": {},
     "output_type": "display_data"
    }
   ],
   "source": [
    "plt.imshow(mask)"
   ]
  }
 ],
 "metadata": {
  "kernelspec": {
   "display_name": "dynamic_gaussians",
   "language": "python",
   "name": "python3"
  },
  "language_info": {
   "codemirror_mode": {
    "name": "ipython",
    "version": 3
   },
   "file_extension": ".py",
   "mimetype": "text/x-python",
   "name": "python",
   "nbconvert_exporter": "python",
   "pygments_lexer": "ipython3",
   "version": "3.7.12"
  }
 },
 "nbformat": 4,
 "nbformat_minor": 2
}
